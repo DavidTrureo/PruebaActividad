{
 "cells": [
  {
   "cell_type": "code",
   "execution_count": 3,
   "metadata": {},
   "outputs": [
    {
     "name": "stdout",
     "output_type": "stream",
     "text": [
      "el numero ingresado 10 es menor a 18\n"
     ]
    }
   ],
   "source": [
    "numero = int(input(\"ingrese un numero\"))\n",
    "if numero < 18:\n",
    "    print(f\"el numero ingresado {numero} es menor a 18\")\n",
    "else:\n",
    "    print(f\"el numero ingresado {numero} es mayor a 18\")\n"
   ]
  }
 ],
 "metadata": {
  "kernelspec": {
   "display_name": "Python 3",
   "language": "python",
   "name": "python3"
  },
  "language_info": {
   "codemirror_mode": {
    "name": "ipython",
    "version": 3
   },
   "file_extension": ".py",
   "mimetype": "text/x-python",
   "name": "python",
   "nbconvert_exporter": "python",
   "pygments_lexer": "ipython3",
   "version": "3.12.3"
  }
 },
 "nbformat": 4,
 "nbformat_minor": 2
}
